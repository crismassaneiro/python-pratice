{
 "cells": [
  {
   "attachments": {},
   "cell_type": "markdown",
   "metadata": {},
   "source": [
    "## Headings\n",
    "The Headings starts with '#,' i.e., hash symbol followed by the space, and there are six Headings with the largest heading only using one hash symbol and the smallest titles using six hash symbols.\n",
    "\n",
    "# (Header 1, title)\n",
    "\n",
    "## (Header 2, major headings)\n",
    "\n",
    "### (Header 3, subheadings)\n",
    "\n",
    "#### (Header 4)\n",
    "\n",
    "##### (Header 5)\n",
    "\n",
    "###### (Header 6)``"
   ]
  },
  {
   "attachments": {},
   "cell_type": "markdown",
   "metadata": {},
   "source": [
    "## Internal and External Link\n",
    "\n",
    "Internal Link in Markdown starts with <a> tag with unique id defined by the attribute 'id' which can be linked in the notebook with the example below:\n",
    "\n",
    "<a id = \"division_ID\"text goes here></a>\n",
    "\n",
    "Also, the id defined above can be linked to the section of the notebook by following the code which makes the link clickable.\n",
    "\n",
    "[Section title](#division_ID)\n",
    "\n",
    "The example of the above can be seen below where the id defined is linked with the section and clickable link obtained after clicking \"Run\" in the toolbar."
   ]
  },
  {
   "attachments": {},
   "cell_type": "markdown",
   "metadata": {},
   "source": [
    "## Teste de Links"
   ]
  },
  {
   "attachments": {},
   "cell_type": "markdown",
   "metadata": {},
   "source": [
    "<a>https://www.amazon.com.br<a id = \"\"Texto para o site da amazon></a>"
   ]
  },
  {
   "attachments": {},
   "cell_type": "markdown",
   "metadata": {},
   "source": [
    "Internal Link in Markdown starts with <a> https://www.amazon.com.br\n",
    "<a id = \"division_ID\"text goes here></a>\n",
    "\n",
    "Also, the id defined above can be linked to the section of the notebook by following the code which makes the link clickable.\n",
    "\n",
    "[Section title](#division_ID)"
   ]
  },
  {
   "attachments": {},
   "cell_type": "markdown",
   "metadata": {},
   "source": [
    "<a>https://www.amazon.com.br</a>"
   ]
  },
  {
   "attachments": {},
   "cell_type": "markdown",
   "metadata": {},
   "source": [
    "<a Amazon = \"https://www.amazon.com.br\"text goes here></a>"
   ]
  },
  {
   "cell_type": "markdown",
   "metadata": {},
   "source": []
  }
 ],
 "metadata": {
  "language_info": {
   "name": "python"
  },
  "orig_nbformat": 4
 },
 "nbformat": 4,
 "nbformat_minor": 2
}
