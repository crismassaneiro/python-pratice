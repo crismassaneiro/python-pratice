{
 "cells": [
  {
   "cell_type": "markdown",
   "metadata": {},
   "source": [
    "Lógica de programação com Python"
   ]
  },
  {
   "attachments": {},
   "cell_type": "markdown",
   "metadata": {},
   "source": [
    "Para escrever String, precisa usar aspas, ou simples ' ' ou duplas \" \". A comunidade Python prefere o uso de aspas SIMPLES ' ', mas nada impede o uso de aspas DUPLAS \" \"."
   ]
  },
  {
   "cell_type": "code",
   "execution_count": 1,
   "metadata": {},
   "outputs": [
    {
     "data": {
      "text/plain": [
       "'Cristian'"
      ]
     },
     "execution_count": 1,
     "metadata": {},
     "output_type": "execute_result"
    }
   ],
   "source": [
    "'Cristian'"
   ]
  },
  {
   "cell_type": "code",
   "execution_count": 2,
   "metadata": {},
   "outputs": [],
   "source": [
    "nome = 'Cristian'"
   ]
  },
  {
   "cell_type": "code",
   "execution_count": 3,
   "metadata": {},
   "outputs": [
    {
     "data": {
      "text/plain": [
       "'Cristian'"
      ]
     },
     "execution_count": 3,
     "metadata": {},
     "output_type": "execute_result"
    }
   ],
   "source": [
    "nome"
   ]
  },
  {
   "cell_type": "code",
   "execution_count": 4,
   "metadata": {},
   "outputs": [],
   "source": [
    "idade = 25"
   ]
  },
  {
   "cell_type": "code",
   "execution_count": 5,
   "metadata": {},
   "outputs": [
    {
     "data": {
      "text/plain": [
       "25"
      ]
     },
     "execution_count": 5,
     "metadata": {},
     "output_type": "execute_result"
    }
   ],
   "source": [
    "idade"
   ]
  },
  {
   "attachments": {},
   "cell_type": "markdown",
   "metadata": {},
   "source": [
    "Imprimindo"
   ]
  },
  {
   "cell_type": "code",
   "execution_count": 6,
   "metadata": {},
   "outputs": [
    {
     "name": "stdout",
     "output_type": "stream",
     "text": [
      "O nome é Cristian e sua idade é 25 anos\n"
     ]
    }
   ],
   "source": [
    "print('O nome é Cristian e sua idade é 25 anos')"
   ]
  },
  {
   "attachments": {},
   "cell_type": "markdown",
   "metadata": {},
   "source": [
    "Imprimindo com variáveis, precisamos colocar a letra f dentro dos () e por a variável dentro de chaves {}"
   ]
  },
  {
   "cell_type": "code",
   "execution_count": 7,
   "metadata": {},
   "outputs": [
    {
     "name": "stdout",
     "output_type": "stream",
     "text": [
      "O nome é Cristian e sua idade é 25 anos\n"
     ]
    }
   ],
   "source": [
    "print(f'O nome é {nome} e sua idade é {idade} anos')            "
   ]
  },
  {
   "attachments": {},
   "cell_type": "markdown",
   "metadata": {},
   "source": [
    "Criando uma função"
   ]
  },
  {
   "cell_type": "code",
   "execution_count": 8,
   "metadata": {},
   "outputs": [],
   "source": [
    "def saudacao():\n",
    "    nome = input('Qual seu nome? ')\n",
    "    print(f'Olá, {nome}')"
   ]
  },
  {
   "cell_type": "code",
   "execution_count": 9,
   "metadata": {},
   "outputs": [
    {
     "name": "stdout",
     "output_type": "stream",
     "text": [
      "Olá, Cristian\n"
     ]
    }
   ],
   "source": [
    "saudacao()"
   ]
  },
  {
   "cell_type": "code",
   "execution_count": 10,
   "metadata": {},
   "outputs": [],
   "source": [
    "def nome_completo():\n",
    " primeiro_nome = input('Qual seu primeiro nome? ')\n",
    " sobrenome = input('Qual seu sobrenome? ')\n",
    " nome_inteiro = primeiro_nome + ' ' + sobrenome\n",
    " print(nome_inteiro)"
   ]
  },
  {
   "cell_type": "code",
   "execution_count": 11,
   "metadata": {},
   "outputs": [
    {
     "name": "stdout",
     "output_type": "stream",
     "text": [
      "Cristian Massaneiro\n"
     ]
    }
   ],
   "source": [
    "nome_completo()"
   ]
  },
  {
   "attachments": {},
   "cell_type": "markdown",
   "metadata": {},
   "source": [
    "Parâmetros "
   ]
  },
  {
   "cell_type": "code",
   "execution_count": 12,
   "metadata": {},
   "outputs": [],
   "source": [
    "nome = 'Cristian'"
   ]
  },
  {
   "cell_type": "code",
   "execution_count": 13,
   "metadata": {},
   "outputs": [],
   "source": [
    "def saudacao_com_parametros(nome_da_pessoa):\n",
    "    print(f'Olá, {nome_da_pessoa}')"
   ]
  },
  {
   "cell_type": "code",
   "execution_count": 14,
   "metadata": {},
   "outputs": [
    {
     "name": "stdout",
     "output_type": "stream",
     "text": [
      "Olá, Cristian\n"
     ]
    }
   ],
   "source": [
    "saudacao_com_parametros(nome)"
   ]
  },
  {
   "attachments": {},
   "cell_type": "markdown",
   "metadata": {},
   "source": [
    "Condicional "
   ]
  },
  {
   "cell_type": "code",
   "execution_count": 15,
   "metadata": {},
   "outputs": [
    {
     "name": "stdout",
     "output_type": "stream",
     "text": [
      "Você tem permissão para dirigir!\n"
     ]
    }
   ],
   "source": [
    "idade = 44\n",
    "\n",
    "def verifica_se_pode_dirigir(idade):\n",
    "    if idade >=18:\n",
    "        print('Você tem permissão para dirigir!')\n",
    "    else: \n",
    "        print('Você não tem permissão para dirigir!')\n",
    "\n",
    "verifica_se_pode_dirigir(idade)        "
   ]
  },
  {
   "cell_type": "code",
   "execution_count": 16,
   "metadata": {},
   "outputs": [
    {
     "name": "stdout",
     "output_type": "stream",
     "text": [
      "Você tem permissão para dirigir!\n"
     ]
    }
   ],
   "source": [
    "def verifica_se_pode_dirigir_sem_parametros():\n",
    "    idade = input('Qual sua idade?') #Solicitando a idade\n",
    "    idade = int(idade)  #covertando o input String para Int\n",
    "    if idade >=18: #if else para responder a idade digitade\n",
    "        print('Você tem permissão para dirigir!')\n",
    "    else: \n",
    "        print('Você não tem permissão para dirigir!')\n",
    "\n",
    "verifica_se_pode_dirigir_sem_parametros()"
   ]
  },
  {
   "attachments": {},
   "cell_type": "markdown",
   "metadata": {},
   "source": [
    "Lista\n"
   ]
  },
  {
   "cell_type": "code",
   "execution_count": 17,
   "metadata": {},
   "outputs": [
    {
     "data": {
      "text/plain": [
       "22"
      ]
     },
     "execution_count": 17,
     "metadata": {},
     "output_type": "execute_result"
    }
   ],
   "source": [
    "idade = 22  \n",
    "idade"
   ]
  },
  {
   "cell_type": "code",
   "execution_count": 18,
   "metadata": {},
   "outputs": [
    {
     "data": {
      "text/plain": [
       "int"
      ]
     },
     "execution_count": 18,
     "metadata": {},
     "output_type": "execute_result"
    }
   ],
   "source": [
    "#através da função type, é possível descobrir qual o tipo da variável, basta colocalá dentro dos () de type\n",
    "type(idade)\n",
    "#nesse exemplo, idade é um Int, porque eu declarei que idade é = 22, 22 é um número, logo é Int"
   ]
  },
  {
   "cell_type": "code",
   "execution_count": 19,
   "metadata": {},
   "outputs": [
    {
     "data": {
      "text/plain": [
       "'Cristian'"
      ]
     },
     "execution_count": 19,
     "metadata": {},
     "output_type": "execute_result"
    }
   ],
   "source": [
    "nome = 'Cristian'\n",
    "nome"
   ]
  },
  {
   "cell_type": "code",
   "execution_count": 20,
   "metadata": {},
   "outputs": [
    {
     "data": {
      "text/plain": [
       "str"
      ]
     },
     "execution_count": 20,
     "metadata": {},
     "output_type": "execute_result"
    }
   ],
   "source": [
    "type(nome)\n",
    "#para fixar bem, usei um str (String), analisando o variável nome, dentro de type, verificamos que se trata de um String, pq letras, quando mais do que 1, são Strings"
   ]
  },
  {
   "cell_type": "code",
   "execution_count": 21,
   "metadata": {},
   "outputs": [
    {
     "data": {
      "text/plain": [
       "list"
      ]
     },
     "execution_count": 21,
     "metadata": {},
     "output_type": "execute_result"
    }
   ],
   "source": [
    "idades = [18, 22, 15, 50]\n",
    "#assim como no Java, a leitura de listas começa por zero, sendo assim, a lista começa por 0, 1, 2, etc.... Portanto, temos que na lista acima o número 18 está na posição 0, 22 posição 1, etc.....\n",
    "type(idades)\n",
    "#agora eu usei o tipo lista, uma lista serve para armanezar elementos, como a lista armazena várias elementos, na hora de verificar no seu type, vemos que ele irá imprimir o tipo list"
   ]
  },
  {
   "cell_type": "code",
   "execution_count": 22,
   "metadata": {},
   "outputs": [
    {
     "data": {
      "text/plain": [
       "15"
      ]
     },
     "execution_count": 22,
     "metadata": {},
     "output_type": "execute_result"
    }
   ],
   "source": [
    "idades[2]\n",
    "#comprovando o que disse acima, quando pedi para imprirmir o número da posição 2, ele me devolveu 15, pq a contagem começa da posição 0 e não da posição 1 \"como a maioria das pessoas estão acostumadas\". Isso pode ser confuso no ínicio, mas com passar do tempo, fica bem simples de entender a lógica."
   ]
  },
  {
   "cell_type": "code",
   "execution_count": 23,
   "metadata": {},
   "outputs": [
    {
     "data": {
      "text/plain": [
       "[18, 22]"
      ]
     },
     "execution_count": 23,
     "metadata": {},
     "output_type": "execute_result"
    }
   ],
   "source": [
    "#agora vamos para consulta em listas\n",
    "idades = [18, 22, 15, 50]\n",
    "#para selecionar mais de valor dentro da lista, é necessário usar : (ex:posição:posição) , ficando assim\n",
    "idades[0:2] #aqui eu quero que seja mostrado a posição 0 e 1. Ué mas eu não digitei a posição 2 ali?, digitei, mas no caso de seleção de lista, ela sempre será lida como a maior posição -1. Como eu digitei a posição 2, logo será 2 -1 = 1, e a posição 1 será o número 22 e não o número 15."
   ]
  },
  {
   "cell_type": "code",
   "execution_count": 24,
   "metadata": {},
   "outputs": [
    {
     "data": {
      "text/plain": [
       "[18, 22, 15]"
      ]
     },
     "execution_count": 24,
     "metadata": {},
     "output_type": "execute_result"
    }
   ],
   "source": [
    "#mais um exemplo, mas agora com a posição 3\n",
    "idades[0:3]"
   ]
  },
  {
   "cell_type": "code",
   "execution_count": 25,
   "metadata": {},
   "outputs": [
    {
     "data": {
      "text/plain": [
       "[18, 22, 15, 50]"
      ]
     },
     "execution_count": 25,
     "metadata": {},
     "output_type": "execute_result"
    }
   ],
   "source": [
    "#outras maneiras de seleção\n",
    "idades[0:] #aqui eu digito a posição 0, vai começar a leitura de zero, como eu não coloquei nenhum outro número, será entendido que eu quero os números da posição 0 ou infinito, ficando assim:"
   ]
  },
  {
   "cell_type": "code",
   "execution_count": 26,
   "metadata": {},
   "outputs": [
    {
     "data": {
      "text/plain": [
       "[15, 50]"
      ]
     },
     "execution_count": 26,
     "metadata": {},
     "output_type": "execute_result"
    }
   ],
   "source": [
    "#mesmo exemplo, só que vou selecionar da posição 2\n",
    "idades[2:]"
   ]
  },
  {
   "cell_type": "code",
   "execution_count": 27,
   "metadata": {},
   "outputs": [
    {
     "data": {
      "text/plain": [
       "50"
      ]
     },
     "execution_count": 27,
     "metadata": {},
     "output_type": "execute_result"
    }
   ],
   "source": [
    "#jeito estranho, tem que prestar atenção na tebela\n",
    "idades = [18, 22, 15, 50]\n",
    "#posição   0   1   2   3   maneira de digitar a posição de maneira correta (mais certa)\n",
    "#outraforma0  -3  -2  -1   maneira de digitar a posição de maneira medonha (só para bugar, mas tem que saber)\n",
    "idades[-1]\n",
    "#abaixo irá aparecer o número 50, porque quando colomanos números negativos, a lista passa a ser lida de tras para frente (estranho mas né....)"
   ]
  },
  {
   "cell_type": "code",
   "execution_count": 28,
   "metadata": {},
   "outputs": [
    {
     "data": {
      "text/plain": [
       "15"
      ]
     },
     "execution_count": 28,
     "metadata": {},
     "output_type": "execute_result"
    }
   ],
   "source": [
    "#outros exemplos bugados\n",
    "idades[-2]"
   ]
  },
  {
   "cell_type": "code",
   "execution_count": 29,
   "metadata": {},
   "outputs": [
    {
     "data": {
      "text/plain": [
       "22"
      ]
     },
     "execution_count": 29,
     "metadata": {},
     "output_type": "execute_result"
    }
   ],
   "source": [
    "idades[-3]"
   ]
  },
  {
   "attachments": {},
   "cell_type": "markdown",
   "metadata": {},
   "source": [
    "Laços e Loops"
   ]
  },
  {
   "cell_type": "code",
   "execution_count": 33,
   "metadata": {},
   "outputs": [
    {
     "data": {
      "text/plain": [
       "[18, 22, 15, 50]"
      ]
     },
     "execution_count": 33,
     "metadata": {},
     "output_type": "execute_result"
    }
   ],
   "source": [
    "idades"
   ]
  },
  {
   "cell_type": "code",
   "execution_count": 35,
   "metadata": {},
   "outputs": [
    {
     "name": "stdout",
     "output_type": "stream",
     "text": [
      "18 anos de idade. Você tem permissão para dirigir!\n",
      "22 anos de idade. Você tem permissão para dirigir!\n",
      "15 anos de idade. Você não tem permissão para dirigir!\n",
      "50 anos de idade. Você tem permissão para dirigir!\n"
     ]
    }
   ],
   "source": [
    "#for fora da funçaõ\n",
    "\n",
    "def verifica_se_pode_dirigir(idade):\n",
    "    if idade >=18:\n",
    "        print(f'{idade} anos de idade. Você tem permissão para dirigir!')\n",
    "    else: \n",
    "        print(f'{idade} anos de idade. Você não tem permissão para dirigir!')\n",
    "\n",
    "for idade in idades:\n",
    "    verifica_se_pode_dirigir(idade)"
   ]
  },
  {
   "cell_type": "code",
   "execution_count": 37,
   "metadata": {},
   "outputs": [
    {
     "name": "stdout",
     "output_type": "stream",
     "text": [
      "18 anos de idade. Você tem permissão para dirigir!\n",
      "22 anos de idade. Você tem permissão para dirigir!\n",
      "15 anos de idade. Você não tem permissão para dirigir!\n",
      "50 anos de idade. Você tem permissão para dirigir!\n"
     ]
    }
   ],
   "source": [
    "#for dentro da funçaõ\n",
    "def verifica_se_pode_dirigir(idades):\n",
    "    for idade in idades:\n",
    "     if idade >=18:\n",
    "        print(f'{idade} anos de idade. Você tem permissão para dirigir!')\n",
    "     else: \n",
    "        print(f'{idade} anos de idade. Você não tem permissão para dirigir!')\n",
    "\n",
    "verifica_se_pode_dirigir(idades)"
   ]
  },
  {
   "attachments": {},
   "cell_type": "markdown",
   "metadata": {},
   "source": [
    "Boleano"
   ]
  },
  {
   "cell_type": "code",
   "execution_count": 39,
   "metadata": {},
   "outputs": [
    {
     "data": {
      "text/plain": [
       "True"
      ]
     },
     "execution_count": 39,
     "metadata": {},
     "output_type": "execute_result"
    }
   ],
   "source": [
    "idade = 18\n",
    "idade >=18"
   ]
  },
  {
   "cell_type": "code",
   "execution_count": 40,
   "metadata": {},
   "outputs": [
    {
     "data": {
      "text/plain": [
       "False"
      ]
     },
     "execution_count": 40,
     "metadata": {},
     "output_type": "execute_result"
    }
   ],
   "source": [
    "idade = 15\n",
    "idade >=18"
   ]
  },
  {
   "cell_type": "code",
   "execution_count": 50,
   "metadata": {},
   "outputs": [],
   "source": [
    "permissoes = []\n",
    "idades = [20, 14, 40]\n",
    "\n",
    "def verifica_se_pode_dirigir(idadess, permissoes):\n",
    "    for idade in idades:\n",
    "     if idade >= 18:\n",
    "        permissoes.append(True)\n",
    "     else:\n",
    "        permissoes.append(False)\n",
    "\n",
    "verifica_se_pode_dirigir(idades, permissoes)        "
   ]
  },
  {
   "cell_type": "code",
   "execution_count": 51,
   "metadata": {},
   "outputs": [
    {
     "data": {
      "text/plain": [
       "[True, False, True]"
      ]
     },
     "execution_count": 51,
     "metadata": {},
     "output_type": "execute_result"
    }
   ],
   "source": [
    "permissoes"
   ]
  },
  {
   "cell_type": "code",
   "execution_count": 53,
   "metadata": {},
   "outputs": [
    {
     "name": "stdout",
     "output_type": "stream",
     "text": [
      "Tem permissão para dirir.\n",
      "Não tem permissão para dirir.\n",
      "Tem permissão para dirir.\n"
     ]
    }
   ],
   "source": [
    "for permissao in permissoes:\n",
    " if permissao == True:\n",
    "    print('Tem permissão para dirir.')\n",
    " else:\n",
    "    print('Não tem permissão para dirir.')"
   ]
  },
  {
   "attachments": {},
   "cell_type": "markdown",
   "metadata": {},
   "source": [
    "Tipos em uma lista"
   ]
  },
  {
   "cell_type": "code",
   "execution_count": 56,
   "metadata": {},
   "outputs": [
    {
     "name": "stdout",
     "output_type": "stream",
     "text": [
      "O elemento Cristian é do tipo:  <class 'str'>\n",
      "O elemento 28 é do tipo:  <class 'int'>\n",
      "O elemento True é do tipo:  <class 'bool'>\n",
      "O elemento 18 é do tipo:  <class 'str'>\n"
     ]
    }
   ],
   "source": [
    "#pode existir diferentes tipos de list ex: listas com int, boolean, string etc.... \n",
    "lista = ['Cristian', 28, True, '18']\n",
    "for elemento in lista:\n",
    "    print (f'O elemento {elemento} é do tipo: ',type(elemento)) #precisa utilizar o type para ver qual o tipo da variavel "
   ]
  },
  {
   "attachments": {},
   "cell_type": "markdown",
   "metadata": {},
   "source": [
    "Import"
   ]
  },
  {
   "cell_type": "code",
   "execution_count": 71,
   "metadata": {},
   "outputs": [],
   "source": [
    "from random import randrange #aqui eu importei uma lib que gera números aleatórios\n",
    "from random import seed #importando o seed, eu  vou  poder definir o número limite para criação de números aleatórios"
   ]
  },
  {
   "cell_type": "code",
   "execution_count": 72,
   "metadata": {},
   "outputs": [],
   "source": [
    "seed(5) #aqui eu defini que o número aleatório maáximo, será 5"
   ]
  },
  {
   "cell_type": "code",
   "execution_count": 77,
   "metadata": {},
   "outputs": [
    {
     "data": {
      "text/plain": [
       "0"
      ]
     },
     "execution_count": 77,
     "metadata": {},
     "output_type": "execute_result"
    }
   ],
   "source": [
    "randrange(0, 9) #aqui eu estou dizendo o comprimento de números aleatórios que podem ser usados. De 0, 9\n",
    "                #como está rodando com seed, ele vai imprimir até 5, sem o seed, imprimirá até o 9\n"
   ]
  },
  {
   "cell_type": "code",
   "execution_count": 75,
   "metadata": {},
   "outputs": [
    {
     "data": {
      "text/plain": [
       "[88]"
      ]
     },
     "execution_count": 75,
     "metadata": {},
     "output_type": "execute_result"
    }
   ],
   "source": [
    "notas_matematica = []\n",
    "notas_matematica.append(randrange(0,100)) #aqui eu estou dizendo o comprimento de números aleatórios que podem ser usados. De 0, 100\n",
    "notas_matematica"
   ]
  },
  {
   "cell_type": "code",
   "execution_count": 68,
   "metadata": {},
   "outputs": [
    {
     "data": {
      "text/plain": [
       "[24, 57, 65, 4, 90, 32, 57, 2]"
      ]
     },
     "execution_count": 68,
     "metadata": {},
     "output_type": "execute_result"
    }
   ],
   "source": [
    "notas_matematica = []\n",
    "\n",
    "for notas in range(8): #aqui eu estou dizendo que eu quero 8 números\n",
    "    notas_matematica.append(randrange(0,100)) #aqui eu estou dizendo o comprimento de números aleatórios que podem ser usados. De 0, 100\n",
    "notas_matematica\n",
    "\n"
   ]
  },
  {
   "cell_type": "code",
   "execution_count": 69,
   "metadata": {},
   "outputs": [
    {
     "data": {
      "text/plain": [
       "8"
      ]
     },
     "execution_count": 69,
     "metadata": {},
     "output_type": "execute_result"
    }
   ],
   "source": [
    "len(notas_matematica) #aqui eu utilizo len() para contas o número de notas que foram impressas"
   ]
  },
  {
   "cell_type": "code",
   "execution_count": null,
   "metadata": {},
   "outputs": [],
   "source": []
  }
 ],
 "metadata": {
  "kernelspec": {
   "display_name": "data-analysis",
   "language": "python",
   "name": "python3"
  },
  "language_info": {
   "codemirror_mode": {
    "name": "ipython",
    "version": 3
   },
   "file_extension": ".py",
   "mimetype": "text/x-python",
   "name": "python",
   "nbconvert_exporter": "python",
   "pygments_lexer": "ipython3",
   "version": "3.11.1"
  },
  "orig_nbformat": 4,
  "vscode": {
   "interpreter": {
    "hash": "e6386ef85bee7ecd711ea49c5ac842ccccdfb16cff9b2312df3720748f01a69e"
   }
  }
 },
 "nbformat": 4,
 "nbformat_minor": 2
}
